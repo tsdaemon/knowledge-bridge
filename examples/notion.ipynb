{
 "cells": [
  {
   "cell_type": "code",
   "execution_count": 1,
   "id": "1b29787a-4aeb-46fe-a282-fd63c5039a33",
   "metadata": {},
   "outputs": [],
   "source": [
    "import os\n",
    "from notion_client import Client\n",
    "\n",
    "from knowledge_bridge.providers.notion import NotionProvider\n",
    "\n",
    "notion = Client(auth=os.getenv(\"NOTION_API_KEY\"))\n",
    "notion_provider = NotionProvider(notion)"
   ]
  },
  {
   "cell_type": "code",
   "execution_count": 2,
   "id": "d4254dc6",
   "metadata": {},
   "outputs": [],
   "source": [
    "import logging\n",
    "\n",
    "logging.basicConfig(level=logging.INFO, format='%(asctime)s - %(levelname)s - %(message)s')"
   ]
  },
  {
   "cell_type": "code",
   "execution_count": 5,
   "id": "9df7e9d0",
   "metadata": {},
   "outputs": [
    {
     "ename": "TypeError",
     "evalue": "fromisoformat: argument must be str",
     "output_type": "error",
     "traceback": [
      "\u001b[0;31m---------------------------------------------------------------------------\u001b[0m",
      "\u001b[0;31mTypeError\u001b[0m                                 Traceback (most recent call last)",
      "Cell \u001b[0;32mIn[5], line 10\u001b[0m\n\u001b[1;32m      6\u001b[0m neo4j \u001b[38;5;241m=\u001b[39m Neo4jGraphStorage(driver\u001b[38;5;241m=\u001b[39mdriver)\n\u001b[1;32m      8\u001b[0m bridge \u001b[38;5;241m=\u001b[39m Bridge(graph_storage\u001b[38;5;241m=\u001b[39mneo4j, providers\u001b[38;5;241m=\u001b[39m{\u001b[38;5;124m\"\u001b[39m\u001b[38;5;124mnotion\u001b[39m\u001b[38;5;124m\"\u001b[39m: notion_provider})\n\u001b[0;32m---> 10\u001b[0m \u001b[43mbridge\u001b[49m\u001b[38;5;241;43m.\u001b[39;49m\u001b[43msync\u001b[49m\u001b[43m(\u001b[49m\u001b[43mtqdm\u001b[49m\u001b[43m)\u001b[49m\n",
      "File \u001b[0;32m~/PROJECTS/knowledge-bridge/knowledge_bridge/bridge.py:17\u001b[0m, in \u001b[0;36mBridge.sync\u001b[0;34m(self, tqdm)\u001b[0m\n\u001b[1;32m     15\u001b[0m \u001b[38;5;28;01mif\u001b[39;00m tqdm \u001b[38;5;129;01mis\u001b[39;00m \u001b[38;5;129;01mnot\u001b[39;00m \u001b[38;5;28;01mNone\u001b[39;00m:\n\u001b[1;32m     16\u001b[0m     provider\u001b[38;5;241m.\u001b[39mtqdm \u001b[38;5;241m=\u001b[39m tqdm\n\u001b[0;32m---> 17\u001b[0m last_update_ts \u001b[38;5;241m=\u001b[39m \u001b[38;5;28;43mself\u001b[39;49m\u001b[38;5;241;43m.\u001b[39;49m\u001b[43mgraph_storage\u001b[49m\u001b[38;5;241;43m.\u001b[39;49m\u001b[43mget_last_sync_timestamp\u001b[49m\u001b[43m(\u001b[49m\u001b[43mname\u001b[49m\u001b[43m)\u001b[49m\n\u001b[1;32m     18\u001b[0m nodes, edges \u001b[38;5;241m=\u001b[39m provider\u001b[38;5;241m.\u001b[39mget_latest_data(last_update_ts)\n\u001b[1;32m     19\u001b[0m \u001b[38;5;28mself\u001b[39m\u001b[38;5;241m.\u001b[39mgraph_storage\u001b[38;5;241m.\u001b[39mincremental_data_sync(name, nodes, edges)\n",
      "File \u001b[0;32m~/PROJECTS/knowledge-bridge/knowledge_bridge/storage/neo4j.py:27\u001b[0m, in \u001b[0;36mNeo4jGraphStorage.get_last_sync_timestamp\u001b[0;34m(self, provider)\u001b[0m\n\u001b[1;32m     25\u001b[0m record \u001b[38;5;241m=\u001b[39m result\u001b[38;5;241m.\u001b[39msingle()\n\u001b[1;32m     26\u001b[0m \u001b[38;5;28;01mif\u001b[39;00m record \u001b[38;5;129;01mis\u001b[39;00m \u001b[38;5;129;01mnot\u001b[39;00m \u001b[38;5;28;01mNone\u001b[39;00m:\n\u001b[0;32m---> 27\u001b[0m     \u001b[38;5;28;01mreturn\u001b[39;00m \u001b[43mdatetime\u001b[49m\u001b[38;5;241;43m.\u001b[39;49m\u001b[43mfromisoformat\u001b[49m\u001b[43m(\u001b[49m\u001b[43mrecord\u001b[49m\u001b[43m[\u001b[49m\u001b[38;5;124;43m\"\u001b[39;49m\u001b[38;5;124;43mtimestamp\u001b[39;49m\u001b[38;5;124;43m\"\u001b[39;49m\u001b[43m]\u001b[49m\u001b[43m)\u001b[49m\n\u001b[1;32m     28\u001b[0m \u001b[38;5;28;01melse\u001b[39;00m:\n\u001b[1;32m     29\u001b[0m     \u001b[38;5;28;01mreturn\u001b[39;00m \u001b[38;5;28;01mNone\u001b[39;00m\n",
      "\u001b[0;31mTypeError\u001b[0m: fromisoformat: argument must be str"
     ]
    }
   ],
   "source": [
    "from knowledge_bridge.storage.neo4j import Neo4jGraphStorage, get_driver\n",
    "from knowledge_bridge.bridge import Bridge\n",
    "from tqdm.notebook import tqdm\n",
    "\n",
    "with get_driver() as driver:\n",
    "    neo4j = Neo4jGraphStorage(driver=driver)\n",
    "\n",
    "    bridge = Bridge(graph_storage=neo4j, providers={\"notion\": notion_provider})\n",
    "\n",
    "    bridge.sync(tqdm)\n"
   ]
  },
  {
   "cell_type": "code",
   "execution_count": null,
   "id": "3d44b3cb",
   "metadata": {},
   "outputs": [],
   "source": []
  }
 ],
 "metadata": {
  "kernelspec": {
   "display_name": "knowledge-bridge-IzZN2O6j-py3.10",
   "language": "python",
   "name": "python3"
  },
  "language_info": {
   "codemirror_mode": {
    "name": "ipython",
    "version": 3
   },
   "file_extension": ".py",
   "mimetype": "text/x-python",
   "name": "python",
   "nbconvert_exporter": "python",
   "pygments_lexer": "ipython3",
   "version": "3.10.12"
  }
 },
 "nbformat": 4,
 "nbformat_minor": 5
}
